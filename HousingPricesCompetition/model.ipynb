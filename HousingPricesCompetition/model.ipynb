{
 "cells": [
  {
   "cell_type": "code",
   "execution_count": 1,
   "metadata": {},
   "outputs": [],
   "source": [
    "import pandas as pd\n",
    "from sklearn.metrics import mean_absolute_error\n",
    "from sklearn.ensemble import RandomForestRegressor\n",
    "\n",
    "iowa_file_path = 'train.csv'\n",
    "home_data = pd.read_csv(iowa_file_path)\n",
    "home_data.head()\n",
    "\n",
    "test_path = 'test.csv'\n",
    "test = pd.read_csv(test_path)"
   ]
  },
  {
   "cell_type": "code",
   "execution_count": 2,
   "metadata": {},
   "outputs": [
    {
     "name": "stdout",
     "output_type": "stream",
     "text": [
      "        MSSubClass        LotArea  OverallQual  OverallCond    YearBuilt  \\\n",
      "count  1460.000000    1460.000000  1460.000000  1460.000000  1460.000000   \n",
      "mean     56.897260   10516.828082     6.099315     5.575342  1971.267808   \n",
      "std      42.300571    9981.264932     1.382997     1.112799    30.202904   \n",
      "min      20.000000    1300.000000     1.000000     1.000000  1872.000000   \n",
      "25%      20.000000    7553.500000     5.000000     5.000000  1954.000000   \n",
      "50%      50.000000    9478.500000     6.000000     5.000000  1973.000000   \n",
      "75%      70.000000   11601.500000     7.000000     6.000000  2000.000000   \n",
      "max     190.000000  215245.000000    10.000000     9.000000  2010.000000   \n",
      "\n",
      "       YearRemodAdd     1stFlrSF     2ndFlrSF  LowQualFinSF    GrLivArea  ...  \\\n",
      "count   1460.000000  1460.000000  1460.000000   1460.000000  1460.000000  ...   \n",
      "mean    1984.865753  1162.626712   346.992466      5.844521  1515.463699  ...   \n",
      "std       20.645407   386.587738   436.528436     48.623081   525.480383  ...   \n",
      "min     1950.000000   334.000000     0.000000      0.000000   334.000000  ...   \n",
      "25%     1967.000000   882.000000     0.000000      0.000000  1129.500000  ...   \n",
      "50%     1994.000000  1087.000000     0.000000      0.000000  1464.000000  ...   \n",
      "75%     2004.000000  1391.250000   728.000000      0.000000  1776.750000  ...   \n",
      "max     2010.000000  4692.000000  2065.000000    572.000000  5642.000000  ...   \n",
      "\n",
      "        Fireplaces   WoodDeckSF  OpenPorchSF  EnclosedPorch    3SsnPorch  \\\n",
      "count  1460.000000  1460.000000  1460.000000    1460.000000  1460.000000   \n",
      "mean      0.613014    94.244521    46.660274      21.954110     3.409589   \n",
      "std       0.644666   125.338794    66.256028      61.119149    29.317331   \n",
      "min       0.000000     0.000000     0.000000       0.000000     0.000000   \n",
      "25%       0.000000     0.000000     0.000000       0.000000     0.000000   \n",
      "50%       1.000000     0.000000    25.000000       0.000000     0.000000   \n",
      "75%       1.000000   168.000000    68.000000       0.000000     0.000000   \n",
      "max       3.000000   857.000000   547.000000     552.000000   508.000000   \n",
      "\n",
      "       ScreenPorch     PoolArea       MiscVal       MoSold       YrSold  \n",
      "count  1460.000000  1460.000000   1460.000000  1460.000000  1460.000000  \n",
      "mean     15.060959     2.758904     43.489041     6.321918  2007.815753  \n",
      "std      55.757415    40.177307    496.123024     2.703626     1.328095  \n",
      "min       0.000000     0.000000      0.000000     1.000000  2006.000000  \n",
      "25%       0.000000     0.000000      0.000000     5.000000  2007.000000  \n",
      "50%       0.000000     0.000000      0.000000     6.000000  2008.000000  \n",
      "75%       0.000000     0.000000      0.000000     8.000000  2009.000000  \n",
      "max     480.000000   738.000000  15500.000000    12.000000  2010.000000  \n",
      "\n",
      "[8 rows x 25 columns]\n"
     ]
    }
   ],
   "source": [
    "y = home_data['SalePrice'] #Set Prediction Targer\n",
    "feature_names = ['MSSubClass','LotArea','OverallQual','OverallCond','YearBuilt','YearRemodAdd','1stFlrSF','2ndFlrSF','LowQualFinSF','GrLivArea','FullBath','HalfBath','BedroomAbvGr','KitchenAbvGr','TotRmsAbvGrd','Fireplaces','WoodDeckSF','OpenPorchSF','EnclosedPorch','3SsnPorch','ScreenPorch','PoolArea','MiscVal','MoSold','YrSold'] \n",
    "X = home_data[feature_names]\n",
    "test_X = test[feature_names] # Set Features\n",
    "print(X.describe())\n",
    "# print(X.head(5))"
   ]
  },
  {
   "cell_type": "code",
   "execution_count": 6,
   "metadata": {},
   "outputs": [
    {
     "ename": "NameError",
     "evalue": "name 'train_X' is not defined",
     "output_type": "error",
     "traceback": [
      "\u001b[1;31m---------------------------------------------------------------------------\u001b[0m",
      "\u001b[1;31mNameError\u001b[0m                                 Traceback (most recent call last)",
      "Cell \u001b[1;32mIn[6], line 13\u001b[0m\n\u001b[0;32m     11\u001b[0m bestMae \u001b[38;5;241m=\u001b[39m \u001b[38;5;28mfloat\u001b[39m(\u001b[38;5;124m'\u001b[39m\u001b[38;5;124minf\u001b[39m\u001b[38;5;124m'\u001b[39m)\n\u001b[0;32m     12\u001b[0m \u001b[38;5;28;01mfor\u001b[39;00m leafVal \u001b[38;5;129;01min\u001b[39;00m candidate_max_leaf_nodes:\n\u001b[1;32m---> 13\u001b[0m     mae \u001b[38;5;241m=\u001b[39m get_mae(leafVal, \u001b[43mtrain_X\u001b[49m, val_X, train_y, val_y)\n\u001b[0;32m     14\u001b[0m     \u001b[38;5;28mprint\u001b[39m(mae,leafVal)\n\u001b[0;32m     15\u001b[0m     \u001b[38;5;28;01mif\u001b[39;00m mae \u001b[38;5;241m<\u001b[39m bestMae: \n",
      "\u001b[1;31mNameError\u001b[0m: name 'train_X' is not defined"
     ]
    }
   ],
   "source": [
    "from sklearn.metrics import mean_absolute_error\n",
    "from sklearn.ensemble import RandomForestRegressor\n",
    "\n",
    "def get_mae(max_leaf_nodes, train_X, val_X, train_y, val_y):\n",
    "    model = RandomForestRegressor(max_leaf_nodes=max_leaf_nodes, random_state=0)\n",
    "    model.fit(train_X, train_y)\n",
    "    preds_val = model.predict(val_X)\n",
    "    mae = mean_absolute_error(val_y, preds_val)\n",
    "    return(mae)\n",
    "candidate_max_leaf_nodes = [5, 25, 50, 100, 250, 500]\n",
    "bestMae = float('inf')\n",
    "for leafVal in candidate_max_leaf_nodes:\n",
    "    mae = get_mae(leafVal, X, val_X, y, val_y)\n",
    "    print(mae,leafVal)\n",
    "    if mae < bestMae: \n",
    "        bestMae = mae\n",
    "        bestLeaf = leafVal\n",
    "print(bestLeaf, bestMae)\n"
   ]
  },
  {
   "cell_type": "code",
   "execution_count": 4,
   "metadata": {},
   "outputs": [
    {
     "data": {
      "text/plain": [
       "array([127456.16, 156361.  , 172348.25, ..., 155347.  , 130054.1 ,\n",
       "       229014.75])"
      ]
     },
     "execution_count": 4,
     "metadata": {},
     "output_type": "execute_result"
    }
   ],
   "source": [
    "rf_model = RandomForestRegressor(random_state = 1)\n",
    "\n",
    "\n",
    "rf_model.fit(X,y)\n",
    "predict = rf_model.predict(test_X)\n",
    "\n",
    "predict"
   ]
  },
  {
   "cell_type": "code",
   "execution_count": 5,
   "metadata": {},
   "outputs": [],
   "source": [
    "output = pd.DataFrame({'Id': test.Id,\n",
    "                        'SalePrice': predict})\n",
    "output.to_csv('submission.csv', index=False)"
   ]
  }
 ],
 "metadata": {
  "kernelspec": {
   "display_name": "Python 3",
   "language": "python",
   "name": "python3"
  },
  "language_info": {
   "codemirror_mode": {
    "name": "ipython",
    "version": 3
   },
   "file_extension": ".py",
   "mimetype": "text/x-python",
   "name": "python",
   "nbconvert_exporter": "python",
   "pygments_lexer": "ipython3",
   "version": "3.11.9"
  }
 },
 "nbformat": 4,
 "nbformat_minor": 2
}
